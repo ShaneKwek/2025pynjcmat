{
 "cells": [
  {
   "cell_type": "markdown",
   "metadata": {},
   "source": [
    "# Variable"
   ]
  },
  {
   "cell_type": "markdown",
   "metadata": {},
   "source": [
    "# Expression"
   ]
  },
  {
   "cell_type": "markdown",
   "metadata": {},
   "source": [
    "# Data Types\n",
    "- f-string"
   ]
  },
  {
   "cell_type": "markdown",
   "metadata": {},
   "source": [
    "# Operators\n",
    "- assignment =\n",
    "- modulo %"
   ]
  },
  {
   "cell_type": "code",
   "execution_count": null,
   "metadata": {},
   "outputs": [],
   "source": [
    "# Function"
   ]
  },
  {
   "cell_type": "code",
   "execution_count": null,
   "metadata": {},
   "outputs": [
    {
     "name": "stdout",
     "output_type": "stream",
     "text": [
      "Please enter the value of the radius\n",
      "78.5\n"
     ]
    }
   ],
   "source": [
    "# circle area\n",
    "def main():\n",
    "    pi = 3.14\n",
    "    print('Please enter the value of the radius')\n",
    "    radius = input('')\n",
    "    radius = float(radius)\n",
    "    print(pi * (radius ** 2))\n",
    "\n",
    "main()"
   ]
  },
  {
   "cell_type": "code",
   "execution_count": null,
   "metadata": {},
   "outputs": [],
   "source": [
    "# doubler count\n",
    "def main():\n",
    "    amount = 0\n",
    "    n = 0 \n",
    "    amount = 200\n",
    "    print('Target amount is $200')\n",
    "    n = 0\n",
    "    while amount != 1:\n",
    "        n = n + 1\n",
    "        if amount % 2 == 0:\n",
    "            amount = amount / 2\n",
    "        else:\n",
    "            amount = amount - 1\n",
    "    print(f'It will take a minimum of {n} steps to reach $200')"
   ]
  },
  {
   "cell_type": "code",
   "execution_count": null,
   "metadata": {},
   "outputs": [],
   "source": []
  }
 ],
 "metadata": {
  "kernelspec": {
   "display_name": "Python 3",
   "language": "python",
   "name": "python3"
  },
  "language_info": {
   "codemirror_mode": {
    "name": "ipython",
    "version": 3
   },
   "file_extension": ".py",
   "mimetype": "text/x-python",
   "name": "python",
   "nbconvert_exporter": "python",
   "pygments_lexer": "ipython3",
   "version": "3.12.1"
  }
 },
 "nbformat": 4,
 "nbformat_minor": 2
}
