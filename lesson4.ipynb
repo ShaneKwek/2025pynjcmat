{
 "cells": [
  {
   "cell_type": "markdown",
   "metadata": {},
   "source": [
    "# Flowchart\n",
    "Translating a flowchart into Python code involves systematically converting the flowchart's graphical elements into corresponding Python constructs. A flowchart visually represents the logic of a program, using shapes like ovals for start/end, rectangles for processes, diamonds for decisions, and arrows to indicate flow. \n",
    "\n",
    "Some flowchart includes instructions to declare the variable names and its types. While this is a good practice, there is no need to do it in Python. As such, we will ignore such instructions.\n",
    "\n",
    "Here’s a step-by-step guide:\n",
    "\n",
    "1. **Identify Start and End Points**: Begin by locating the flowchart's start and end points. These indicate where your program should begin and terminate, can be represented as `print(\"Start\")` and `print(\"End\")` in Python for clarity.\n",
    "\n",
    "2. **Identify Input and Outputs**: They are represented in the parallelogram. These input and outputs are translated into Python's `input()` and `print()` functions.\n",
    "\n",
    "3. **Translate Processes**: Processes in a flowchart (rectangles) represent tasks or computations. Each process is translated into Python statements. For instance, \"Calculate area = length × width\" becomes:\n",
    "\n",
    "    ```python\n",
    "    area = length * width\n",
    "    ```\n",
    "\n",
    "4. **Handle Decisions**: Decisions (diamonds) are conditions that lead to different outcomes. Translate these into `if`, `elif`, and `else` statements. For example, a decision like \"Is x > 0?\" becomes:\n",
    "\n",
    "    ```python\n",
    "    if x > 0:\n",
    "        # Code for True path\n",
    "    else:\n",
    "        # Code for False path\n",
    "    ```\n",
    "\n",
    "5. **Represent Loops**: Repeated paths in a flowchart indicate loops. Convert these into `while` or `for` loops in Python. For instance, a loop with the condition \"Repeat until x < 10\" translates to:\n",
    "\n",
    "    ```python\n",
    "    while x < 10:\n",
    "        # Code to repeat\n",
    "    ```\n",
    "\n",
    "6. **Follow Arrows for Flow**: The arrows in the flowchart define the order of execution. Ensure your Python code follows this logical sequence by structuring statements accordingly."
   ]
  },
  {
   "cell_type": "markdown",
   "metadata": {},
   "source": [
    "#### Example\n",
    "Translate the following flowchart into Python code.\n",
    "\n",
    "."
   ]
  },
  {
   "cell_type": "code",
   "execution_count": null,
   "metadata": {},
   "outputs": [],
   "source": [
    "def main():\n",
    "    print('Main') # Starting Point\n",
    "    \n",
    "    # for loop version\n",
    "    for n in range(1,101): # Represent Loops\n",
    "        print(n)\n",
    "\n",
    "    # while loop version\n",
    "    n = 1                  # Represent Loops  \n",
    "    while n < 100:\n",
    "        print(n)\n",
    "        n = n + 1\n",
    "\n",
    "    print('End') # Ending Point"
   ]
  },
  {
   "cell_type": "markdown",
   "metadata": {},
   "source": [
    "#### Example\n",
    "Translate the following flowchart into Python code.\n",
    "\n",
    "Refer to `circle_area.jpg`."
   ]
  },
  {
   "cell_type": "code",
   "execution_count": null,
   "metadata": {},
   "outputs": [],
   "source": [
    "def main():\n",
    "    print('Main') #Starting Point\n",
    "    pi = 3.14\n",
    "    print('Please enter the value of the radius') # Output user message\n",
    "    radius = input('') # Input radius\n",
    "    radius = float(radius)\n",
    "    print(pi * (radius ** 2)) # Output the calculated value\n",
    "    print('End') #End Point\n",
    "main()"
   ]
  },
  {
   "cell_type": "markdown",
   "metadata": {},
   "source": [
    "#### Example\n",
    "Translate the following flowchart into Python code.\n",
    "\n",
    "Refer to `odd_even_checker.jpg`."
   ]
  },
  {
   "cell_type": "code",
   "execution_count": null,
   "metadata": {},
   "outputs": [],
   "source": [
    "# YOUR_CODE_HERE"
   ]
  },
  {
   "cell_type": "markdown",
   "metadata": {},
   "source": [
    "#### Example\n",
    "Translate the following flowchart into Python code.\n",
    "\n",
    "Refer to `nature_of_roots.jpg`."
   ]
  },
  {
   "cell_type": "code",
   "execution_count": null,
   "metadata": {},
   "outputs": [],
   "source": [
    "# YOUR_CODE_HERE"
   ]
  },
  {
   "cell_type": "markdown",
   "metadata": {},
   "source": [
    "## Mathematical Functions In Python\n",
    "In mathematics, there are several standard functions which we haven't touched upon until now. There are standard trigonometrical functions, exponential and logarithm functions. Python doesn't have these functions inbuilt. However, there are already people creating modules that included the implementation of these modules. One of these modules is `sympy`\n",
    "\n",
    "To use this functions easily, we can include the statement \n",
    "\n",
    "```python\n",
    "from sympy import *\n",
    "```\n",
    "\n",
    "at the start of the code.\n",
    "\n",
    "### Example\n",
    "Import module `sympy` and test out the basic trigonometry functions $\\sin$, $\\cos$, $\\tan$, exponential function $\\exp$ and logarithm function $\\log$."
   ]
  },
  {
   "cell_type": "code",
   "execution_count": 4,
   "metadata": {},
   "outputs": [
    {
     "name": "stdout",
     "output_type": "stream",
     "text": [
      "1.5707963267948966\n",
      "1/2\n",
      "sqrt(3)/2\n",
      "1\n",
      "2.718281828459045\n",
      "log(2)\n",
      "1\n"
     ]
    }
   ],
   "source": [
    "from sympy import *\n",
    "\n",
    "print(float(pi/2))\n",
    "print(sin(pi/6))\n",
    "print(cos(pi/6))\n",
    "print(tan(pi/4))\n",
    "print(float(exp(1)))\n",
    "print(log(2))\n",
    "print(log(exp(1)))"
   ]
  },
  {
   "cell_type": "markdown",
   "metadata": {},
   "source": [
    "#### Exercise\n",
    "Find the smallest positive integer for which \n",
    "\n",
    "$$\\left|\\frac{\\sin n}{n^{2}}\\right|<0.06.$$"
   ]
  },
  {
   "cell_type": "code",
   "execution_count": null,
   "metadata": {},
   "outputs": [],
   "source": [
    "# YOUR_CODE_HERE"
   ]
  },
  {
   "cell_type": "markdown",
   "metadata": {},
   "source": [
    "## Computer Algebraic System (CAS) with Sympy\n",
    "Sympy supports many other useful functionalities that we need when we do mathematics.\n",
    "\n",
    "#### Example\n",
    "We can declare a symbolic variable by using the `symbols()` method and assign it to another variable that mimics a mathematical function.\n",
    "\n",
    "These variable can be printed nicely with `display()` method"
   ]
  },
  {
   "cell_type": "code",
   "execution_count": null,
   "metadata": {},
   "outputs": [
    {
     "data": {
      "text/latex": [
       "$\\displaystyle x^{3} + 2 x^{2} + x + 5$"
      ],
      "text/plain": [
       "x**3 + 2*x**2 + x + 5"
      ]
     },
     "metadata": {},
     "output_type": "display_data"
    },
    {
     "name": "stdout",
     "output_type": "stream",
     "text": [
      "Derivative: 3*x**2 + 4*x + 1\n",
      "Integral: x**4/4 + 2*x**3/3 + x**2/2 + 5*x\n",
      "Roots: [-2/3 - 1/(3*(-1/2 - sqrt(3)*I/2)*(3*sqrt(1965)/2 + 133/2)**(1/3)) - (-1/2 - sqrt(3)*I/2)*(3*sqrt(1965)/2 + 133/2)**(1/3)/3, -2/3 - (-1/2 + sqrt(3)*I/2)*(3*sqrt(1965)/2 + 133/2)**(1/3)/3 - 1/(3*(-1/2 + sqrt(3)*I/2)*(3*sqrt(1965)/2 + 133/2)**(1/3)), -(3*sqrt(1965)/2 + 133/2)**(1/3)/3 - 2/3 - 1/(3*(3*sqrt(1965)/2 + 133/2)**(1/3))]\n"
     ]
    }
   ],
   "source": [
    "x = symbols('x')\n",
    "\n",
    "# Define a polynomial f(x) = x**3 + 2*x**2 + x + 5 \n",
    "f = x**3 + 2*x**2 + x + 5\n",
    "\n",
    "display(f)"
   ]
  },
  {
   "cell_type": "markdown",
   "metadata": {},
   "source": [
    "## `solve()`, `diff()` and `integrate()`\n",
    "We can also solve equations, differentiate and integrate expressions with Sympy using the `solve()`, `diff()` and `integrate()` functions\n",
    "\n",
    "#### Example"
   ]
  },
  {
   "cell_type": "code",
   "execution_count": 16,
   "metadata": {},
   "outputs": [
    {
     "data": {
      "text/latex": [
       "$\\displaystyle x^{3} + 2 x^{2} + x + 5$"
      ],
      "text/plain": [
       "x**3 + 2*x**2 + x + 5"
      ]
     },
     "metadata": {},
     "output_type": "display_data"
    },
    {
     "name": "stdout",
     "output_type": "stream",
     "text": [
      "Derivative: 3*x**2 + 4*x + 1\n",
      "Integral: x**4/4 + 2*x**3/3 + x**2/2 + 5*x\n",
      "Roots: [-2/3 - 1/(3*(-1/2 - sqrt(3)*I/2)*(3*sqrt(1965)/2 + 133/2)**(1/3)) - (-1/2 - sqrt(3)*I/2)*(3*sqrt(1965)/2 + 133/2)**(1/3)/3, -2/3 - (-1/2 + sqrt(3)*I/2)*(3*sqrt(1965)/2 + 133/2)**(1/3)/3 - 1/(3*(-1/2 + sqrt(3)*I/2)*(3*sqrt(1965)/2 + 133/2)**(1/3)), -(3*sqrt(1965)/2 + 133/2)**(1/3)/3 - 2/3 - 1/(3*(3*sqrt(1965)/2 + 133/2)**(1/3))]\n"
     ]
    }
   ],
   "source": [
    "x = symbols('x')\n",
    "\n",
    "# Define a polynomial f(x) = x**3 + 2*x**2 + x + 5 \n",
    "f = x**3 + 2*x**2 + x + 5\n",
    "\n",
    "display(f)\n",
    "\n",
    "# Differentiate\n",
    "derivative = diff(f, x)\n",
    "print(\"Derivative:\", derivative)\n",
    "\n",
    "# Integrate\n",
    "integral = integrate(f, x)\n",
    "print(\"Integral:\", integral)\n",
    "\n",
    "# Solve for roots\n",
    "roots = solve(f, x)\n",
    "print(\"Roots:\", roots)"
   ]
  },
  {
   "cell_type": "markdown",
   "metadata": {},
   "source": [
    "#### Example\n",
    "A curve $C$ has equation $y=x^3 + 2x^2 + x + 5$.\n",
    "\n",
    "Write a program that:\n",
    "- declares that a Sympy function $y=x^3 + 2x^2 + x + 5$\n",
    "- print the equation of $C$\n",
    "- print all the stationary points of the curve $C$, if any\n",
    "- print out nature of all the stationary points found "
   ]
  },
  {
   "cell_type": "code",
   "execution_count": 15,
   "metadata": {},
   "outputs": [
    {
     "name": "stdout",
     "output_type": "stream",
     "text": [
      "The equation is y = x**3 + 2*x**2 + x + 5\n",
      "Stationary point: (-1, 5)\n",
      "Maximum point\n",
      "Stationary point: (-1/3, 131/27)\n",
      "Minimum point\n"
     ]
    }
   ],
   "source": [
    "from sympy import *\n",
    "\n",
    "x = symbols('x')\n",
    "\n",
    "y = x**3 + 2*x**2 + x + 5\n",
    "\n",
    "print(f'The equation is y = {y}')\n",
    "\n",
    "first_deriv = diff(y,x)\n",
    "\n",
    "stationary_x = solve(first_deriv, x)\n",
    "\n",
    "if stationary_x == []:\n",
    "    print('No stationary points found on curve C')\n",
    "else:\n",
    "    for sp in stationary_x:\n",
    "        evaluated_first_deriv = [first_deriv.subs(x, sp - 0.1), first_deriv.subs(x, sp + 0.01)]\n",
    "        print(f'Stationary point: ({sp}, {y.subs(x,sp)})')\n",
    "        if evaluated_first_deriv[0]*evaluated_first_deriv[1] > 0:\n",
    "            print('Inflection point')\n",
    "        else:\n",
    "            if evaluated_first_deriv[0] < 0:\n",
    "                print('Minimum point')\n",
    "            else:\n",
    "                print('Maximum point')\n"
   ]
  },
  {
   "cell_type": "markdown",
   "metadata": {},
   "source": [
    "#### Exercise \n",
    "Consider the function of the form \n",
    "\n",
    "$$f\\left(x\\right)=x+\\frac{1}{x},\\,x>0.$$\n",
    "\n",
    "Find the range of values of $m$ for which $f\\left(x\\right)-mx-1=0$ has two distinct real roots."
   ]
  },
  {
   "cell_type": "code",
   "execution_count": null,
   "metadata": {},
   "outputs": [],
   "source": [
    "# YOUR_CODE_HERE"
   ]
  },
  {
   "cell_type": "markdown",
   "metadata": {},
   "source": [
    "#### Exercise\n",
    "A curve $C$ has equation $y=f(x)$.\n",
    "\n",
    "Write a program that:\n",
    "- takes in a Sympy expression $f(x)$ \n",
    "- print the equation of $C$\n",
    "- print all the stationary points of the curve $C$, if any\n",
    "- determine the nature of the stationary points using first derivative test\n",
    "- print out nature of all the stationary points found "
   ]
  },
  {
   "cell_type": "code",
   "execution_count": null,
   "metadata": {},
   "outputs": [],
   "source": [
    "# YOUR_CODE_HERE"
   ]
  },
  {
   "cell_type": "markdown",
   "metadata": {},
   "source": [
    "#### Exercise\n",
    "A curve $C$ has equation $y=f(x)$.\n",
    "\n",
    "Write a program that:\n",
    "- takes in a Sympy expression $f(x)$ \n",
    "- print the equation of $C$\n",
    "- print all the stationary points of the curve $C$, if any\n",
    "- determine the nature of the stationary points using second derivative test\n",
    "- print out nature of all the stationary points found "
   ]
  },
  {
   "cell_type": "code",
   "execution_count": null,
   "metadata": {},
   "outputs": [],
   "source": [
    "# YOUR_CODE_HERE"
   ]
  },
  {
   "cell_type": "markdown",
   "metadata": {},
   "source": [
    "#### Exercise\n",
    "Let $a$ and $b$ be positive constants with $a < b$.\n",
    "Consider rational functions of the form\n",
    "\n",
    "$$f\\left(x\\right)=\\frac{1}{\\left(a-x\\right)\\left(b-x\\right)},\\,x\\neq a,b.$$\n",
    "\n",
    "Write a Python program that:\n",
    "- asks the user for two floats $a$ and $b$ and an integer $n$,\n",
    "- prints out the first $n$ terms of its binomial series expansion, given that $\\left|x\\right|<a$."
   ]
  },
  {
   "cell_type": "code",
   "execution_count": null,
   "metadata": {},
   "outputs": [],
   "source": [
    "# YOUR_CODE_HERE"
   ]
  },
  {
   "cell_type": "markdown",
   "metadata": {},
   "source": [
    "#### Exercise\n",
    "Translate the following flowchart into Python code.\n",
    "\n",
    "Refer to `quadratic_equation.png`."
   ]
  },
  {
   "cell_type": "code",
   "execution_count": null,
   "metadata": {},
   "outputs": [],
   "source": [
    "## GG.com"
   ]
  }
 ],
 "metadata": {
  "kernelspec": {
   "display_name": "Python 3",
   "language": "python",
   "name": "python3"
  },
  "language_info": {
   "codemirror_mode": {
    "name": "ipython",
    "version": 3
   },
   "file_extension": ".py",
   "mimetype": "text/x-python",
   "name": "python",
   "nbconvert_exporter": "python",
   "pygments_lexer": "ipython3",
   "version": "3.12.1"
  }
 },
 "nbformat": 4,
 "nbformat_minor": 2
}
