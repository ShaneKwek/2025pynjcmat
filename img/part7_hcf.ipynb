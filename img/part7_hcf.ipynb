{
 "cells": [
  {
   "cell_type": "code",
   "execution_count": null,
   "metadata": {},
   "outputs": [
    {
     "name": "stdout",
     "output_type": "stream",
     "text": [
      "The highest common factor of 36 and 32 is 4\n"
     ]
    },
    {
     "data": {
      "text/plain": [
       "4"
      ]
     },
     "execution_count": 1,
     "metadata": {},
     "output_type": "execute_result"
    }
   ],
   "source": [
    "def hcf(m: int, n: int)->int:\n",
    "    # hcfmn, counthcf, min_of_mn\n",
    "    if m > n:\n",
    "        min_of_mn = n\n",
    "    else:\n",
    "        min_of_mn = m\n",
    "    for counthcf in range(1, min_of_mn+1):\n",
    "        if m % counthcf == 0 and n % counthcf == 0:\n",
    "            hcfmn = counthcf\n",
    "    print(f'The highest common factor of {m} and {n} is {hcfmn}')\n",
    "    return hcfmn\n",
    "\n",
    "hcf(36, 32)"
   ]
  },
  {
   "cell_type": "code",
   "execution_count": null,
   "metadata": {},
   "outputs": [
    {
     "name": "stdout",
     "output_type": "stream",
     "text": [
      "{1, 2, 4}\n",
      "4\n"
     ]
    }
   ],
   "source": [
    "m, n = 36, 32\n",
    "factors_m = set(filter(lambda x: m % x == 0, range(1, m+1)))\n",
    "# print(factors_m)\n",
    "factors_n = set(filter(lambda x: n % x == 0, range(1, n+1)))\n",
    "# print(factors_n)\n",
    "common_factors = factors_m.intersection(factors_n)\n",
    "# print(common_factors)\n",
    "hcf = max(common_factors)\n",
    "print(hcf)"
   ]
  },
  {
   "cell_type": "code",
   "execution_count": null,
   "metadata": {},
   "outputs": [],
   "source": []
  }
 ],
 "metadata": {
  "kernelspec": {
   "display_name": "Python 3",
   "language": "python",
   "name": "python3"
  },
  "language_info": {
   "codemirror_mode": {
    "name": "ipython",
    "version": 3
   },
   "file_extension": ".py",
   "mimetype": "text/x-python",
   "name": "python",
   "nbconvert_exporter": "python",
   "pygments_lexer": "ipython3",
   "version": "3.12.1"
  }
 },
 "nbformat": 4,
 "nbformat_minor": 2
}
