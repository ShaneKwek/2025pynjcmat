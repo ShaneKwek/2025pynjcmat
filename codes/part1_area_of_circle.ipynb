{
 "cells": [
  {
   "cell_type": "markdown",
   "metadata": {},
   "source": [
    "### Concepts covered\n",
    "- functions\n",
    "    - input and print functions and f-strings, escape character '\\n'\n",
    "- assignment of values to variables\n",
    "- data types (float vs int, str)\n",
    "- type casting float(input('...'))\n",
    "- libraries (import math, math.pi)\n",
    "    - mathematical module in Python. This module extends support to numerous mathematical constants and functions. A few commonly used constants are math.pi, math.e\n",
    "- binary operators (*, **)"
   ]
  },
  {
   "cell_type": "code",
   "execution_count": 1,
   "metadata": {},
   "outputs": [],
   "source": [
    "def circleArea(r: float):\n",
    "    import math\n",
    "    return math.pi * (r**2)"
   ]
  },
  {
   "cell_type": "code",
   "execution_count": 4,
   "metadata": {},
   "outputs": [
    {
     "name": "stdout",
     "output_type": "stream",
     "text": [
      "Area of circle with radius 5.0 units is:\n",
      "78.53981633974483 units^2\n"
     ]
    }
   ],
   "source": [
    "r = float(input('Please enter the value of the radius: '))\n",
    "area = circleArea(r)\n",
    "print(f'Area of circle with radius {r} units is:\\n{area} units^2')"
   ]
  }
 ],
 "metadata": {
  "kernelspec": {
   "display_name": "Python 3",
   "language": "python",
   "name": "python3"
  },
  "language_info": {
   "codemirror_mode": {
    "name": "ipython",
    "version": 3
   },
   "file_extension": ".py",
   "mimetype": "text/x-python",
   "name": "python",
   "nbconvert_exporter": "python",
   "pygments_lexer": "ipython3",
   "version": "3.12.1"
  }
 },
 "nbformat": 4,
 "nbformat_minor": 2
}
