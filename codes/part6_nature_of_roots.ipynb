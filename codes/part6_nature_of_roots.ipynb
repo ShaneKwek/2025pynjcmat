{
 "cells": [
  {
   "cell_type": "code",
   "execution_count": null,
   "metadata": {},
   "outputs": [],
   "source": [
    "print('This program determines the nature of roots for a quadratic equation of the form ax^2 + bx + c = 0')\n",
    "a = input('Enter the value of a')\n",
    "b = input('Enter the value of b')\n",
    "c = input('Enter the value of c')\n",
    "\n",
    "d = b**2 - 4 * a * c\n",
    "print(f'The discriminant b^2-4ac is {d}')\n",
    "\n",
    "if d < 0:\n",
    "    print('This equation has no real roots.')\n",
    "elif d == 0:\n",
    "    print('This equation has two equal real roots.')\n",
    "else:\n",
    "    print('This equation has two distinct real roots.')"
   ]
  }
 ],
 "metadata": {
  "language_info": {
   "name": "python"
  }
 },
 "nbformat": 4,
 "nbformat_minor": 2
}
