{
 "cells": [
  {
   "cell_type": "markdown",
   "metadata": {},
   "source": [
    "### Concepts covered\n",
    "- functions\n",
    "    - input and print functions and f-strings\n",
    "- assignment of values to variables\n",
    "- data types (int, str)\n",
    "- type casting int(input('...'))\n",
    "- binary operators (%)\n",
    "- logical operators (==)\n",
    "- flow control:\n",
    "    - if <condition>:\n",
    "        <do something> \n",
    "      else:\n",
    "        <do some other thing> "
   ]
  },
  {
   "cell_type": "code",
   "execution_count": 1,
   "metadata": {},
   "outputs": [],
   "source": [
    "def odd_even_num(n: int):\n",
    "    if n % 2 == 0:\n",
    "        print(f\"{n} is even!\")\n",
    "    else:\n",
    "        print(f\"{n} is odd!\")"
   ]
  },
  {
   "cell_type": "code",
   "execution_count": 2,
   "metadata": {},
   "outputs": [
    {
     "name": "stdout",
     "output_type": "stream",
     "text": [
      "5 is odd!\n"
     ]
    }
   ],
   "source": [
    "testnumber = int(input('Please enter a natural number'))\n",
    "odd_even_num(testnumber)"
   ]
  }
 ],
 "metadata": {
  "kernelspec": {
   "display_name": "Python 3",
   "language": "python",
   "name": "python3"
  },
  "language_info": {
   "codemirror_mode": {
    "name": "ipython",
    "version": 3
   },
   "file_extension": ".py",
   "mimetype": "text/x-python",
   "name": "python",
   "nbconvert_exporter": "python",
   "pygments_lexer": "ipython3",
   "version": "3.12.1"
  }
 },
 "nbformat": 4,
 "nbformat_minor": 2
}
