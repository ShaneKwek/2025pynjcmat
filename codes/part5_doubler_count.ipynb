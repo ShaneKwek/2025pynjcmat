{
 "cells": [
  {
   "cell_type": "code",
   "execution_count": 2,
   "metadata": {},
   "outputs": [
    {
     "name": "stdout",
     "output_type": "stream",
     "text": [
      "It will take a minimum of 9 steps to reach $200\n"
     ]
    }
   ],
   "source": [
    "amount = 200\n",
    "n = 0\n",
    "while amount != 1:\n",
    "    n = n+1\n",
    "    if amount % 2 == 0:\n",
    "        amount = amount / 2\n",
    "    else:\n",
    "        amount = amount - 1\n",
    "print(f'It will take a minimum of {n} steps to reach $200')"
   ]
  }
 ],
 "metadata": {
  "kernelspec": {
   "display_name": "Python 3",
   "language": "python",
   "name": "python3"
  },
  "language_info": {
   "codemirror_mode": {
    "name": "ipython",
    "version": 3
   },
   "file_extension": ".py",
   "mimetype": "text/x-python",
   "name": "python",
   "nbconvert_exporter": "python",
   "pygments_lexer": "ipython3",
   "version": "3.12.1"
  }
 },
 "nbformat": 4,
 "nbformat_minor": 2
}
